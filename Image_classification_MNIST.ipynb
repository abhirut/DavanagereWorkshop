{
 "cells": [
  {
   "cell_type": "code",
   "execution_count": 1,
   "metadata": {},
   "outputs": [
    {
     "name": "stderr",
     "output_type": "stream",
     "text": [
      "/Users/saneem/anaconda/lib/python2.7/site-packages/h5py/__init__.py:34: FutureWarning: Conversion of the second argument of issubdtype from `float` to `np.floating` is deprecated. In future, it will be treated as `np.float64 == np.dtype(float).type`.\n",
      "  from ._conv import register_converters as _register_converters\n",
      "Using TensorFlow backend.\n"
     ]
    }
   ],
   "source": [
    "import numpy as np\n",
    "import matplotlib.pyplot as plt\n",
    "import gzip\n",
    "from __future__ import print_function\n",
    "\n",
    "# importing deep learning library\n",
    "import keras\n",
    "from keras.models import Sequential\n",
    "from keras.layers import Dense, Flatten\n",
    "from keras.layers import Conv2D\n",
    "from keras import backend as K"
   ]
  },
  {
   "cell_type": "code",
   "execution_count": 11,
   "metadata": {
    "collapsed": true
   },
   "outputs": [],
   "source": [
    "# Load MNIST data\n",
    "def load_images(filename):\n",
    "    f = gzip.open(filename,'r')\n",
    "    image_size = 28\n",
    "    \n",
    "    f.read(16)\n",
    "    buf = f.read()\n",
    "    data = np.frombuffer(buf, dtype=np.uint8).astype(np.float32)\n",
    "    num_images = len(data)/(image_size*image_size)\n",
    "    data = data.reshape(num_images, image_size, image_size, 1)\n",
    "    data = data/255.\n",
    "    return data\n",
    "\n",
    "def load_labels(filename):\n",
    "    f = gzip.open('train-labels-idx1-ubyte.gz','r')\n",
    "    f.read(8)\n",
    "    buf = f.read()\n",
    "    labels = np.frombuffer(buf, dtype=np.uint8).astype(np.int64)\n",
    "    return labels\n",
    "\n",
    "#------------------------------------------------------#\n",
    "\n",
    "# Plot images\n",
    "def plot_images(data_element):\n",
    "    image = np.asarray(data_element).squeeze()\n",
    "    plt.imshow(image, cmap='gray')\n",
    "    plt.show()\n",
    "\n",
    "#------------------------------------------------------#\n",
    "\n",
    "# Model creation\n",
    "def create_cnn_model():\n",
    "    # input image dimensions\n",
    "    img_rows, img_cols = 28, 28\n",
    "    num_classes = 10\n",
    "    input_shape = (img_rows, img_cols, 1)\n",
    "    \n",
    "    model = Sequential()\n",
    "    model.add(Conv2D(15, kernel_size=(3, 3), activation='relu', input_shape=input_shape))\n",
    "    model.add(Conv2D(10, kernel_size=(3, 3), activation='relu'))\n",
    "    model.add(Flatten())\n",
    "    model.add(Dense(num_classes, activation='softmax'))\n",
    "\n",
    "    model.compile(loss=keras.losses.categorical_crossentropy,\n",
    "                  optimizer=keras.optimizers.SGD(),\n",
    "                  metrics=['accuracy'])\n",
    "    model.summary()\n",
    "    return model\n",
    "\n",
    "#------------------------------------------------------#\n",
    "\n",
    "# Model training\n",
    "def train_model(model, x_train, y_train):\n",
    "    num_classes = len(np.unique(y_train))\n",
    "    print(num_classes)\n",
    "    y_train = keras.utils.to_categorical(y_train, num_classes)\n",
    "    epochs = 10\n",
    "    batch_size = 128\n",
    "    model.fit(x_train, y_train,\n",
    "          batch_size=batch_size,\n",
    "          epochs=epochs,\n",
    "          verbose=1)\n",
    "    return model"
   ]
  },
  {
   "cell_type": "markdown",
   "metadata": {
    "collapsed": true
   },
   "source": [
    "<br>\n",
    "### Main section starts here."
   ]
  },
  {
   "cell_type": "code",
   "execution_count": 6,
   "metadata": {},
   "outputs": [],
   "source": [
    "# loading training data\n",
    "train_img = load_images('train-images-idx3-ubyte.gz')    \n",
    "train_labels = load_labels('train-labels-idx1-ubyte.gz')"
   ]
  },
  {
   "cell_type": "code",
   "execution_count": 7,
   "metadata": {
    "collapsed": true
   },
   "outputs": [],
   "source": [
    "# loading test data\n",
    "test_img = load_images('train-images-idx3-ubyte.gz')    \n",
    "test_labels = load_labels('train-labels-idx1-ubyte.gz')"
   ]
  },
  {
   "cell_type": "code",
   "execution_count": 9,
   "metadata": {},
   "outputs": [
    {
     "data": {
      "image/png": "[encoded data removed]",
      "text/plain": [
       "<matplotlib.figure.Figure at 0x1167f6250>"
      ]
     },
     "metadata": {},
     "output_type": "display_data"
    },
    {
     "name": "stdout",
     "output_type": "stream",
     "text": [
      "5\n"
     ]
    }
   ],
   "source": [
    "# visualizing data: plotting an image and the label.\n",
    "plot_images(train_img[0])\n",
    "print(train_labels[0])"
   ]
  },
  {
   "cell_type": "code",
   "execution_count": 10,
   "metadata": {},
   "outputs": [
    {
     "name": "stdout",
     "output_type": "stream",
     "text": [
      "_________________________________________________________________\n",
      "Layer (type)                 Output Shape              Param #   \n",
      "=================================================================\n",
      "conv2d_1 (Conv2D)            (None, 26, 26, 15)        150       \n",
      "_________________________________________________________________\n",
      "conv2d_2 (Conv2D)            (None, 24, 24, 10)        1360      \n",
      "_________________________________________________________________\n",
      "flatten_1 (Flatten)          (None, 5760)              0         \n",
      "_________________________________________________________________\n",
      "dense_1 (Dense)              (None, 10)                57610     \n",
      "=================================================================\n",
      "Total params: 59,120\n",
      "Trainable params: 59,120\n",
      "Non-trainable params: 0\n",
      "_________________________________________________________________\n"
     ]
    }
   ],
   "source": [
    "# Initializing the model\n",
    "model = create_cnn_model()"
   ]
  },
  {
   "cell_type": "code",
   "execution_count": 13,
   "metadata": {},
   "outputs": [
    {
     "name": "stdout",
     "output_type": "stream",
     "text": [
      "10\n",
      "Epoch 1/10\n",
      "60000/60000 [==============================] - 27s 446us/step - loss: 0.1421 - acc: 0.9600\n",
      "Epoch 2/10\n",
      "60000/60000 [==============================] - 23s 379us/step - loss: 0.1283 - acc: 0.9641\n",
      "Epoch 3/10\n",
      "60000/60000 [==============================] - 25s 421us/step - loss: 0.1179 - acc: 0.9672\n",
      "Epoch 4/10\n",
      "60000/60000 [==============================] - 27s 444us/step - loss: 0.1090 - acc: 0.9695\n",
      "Epoch 5/10\n",
      "60000/60000 [==============================] - 26s 440us/step - loss: 0.1016 - acc: 0.9714\n",
      "Epoch 6/10\n",
      "60000/60000 [==============================] - 26s 428us/step - loss: 0.0948 - acc: 0.9734\n",
      "Epoch 7/10\n",
      "60000/60000 [==============================] - 29s 477us/step - loss: 0.0902 - acc: 0.9744\n",
      "Epoch 8/10\n",
      "60000/60000 [==============================] - 31s 510us/step - loss: 0.0855 - acc: 0.9755\n",
      "Epoch 9/10\n",
      "60000/60000 [==============================] - 32s 530us/step - loss: 0.0809 - acc: 0.97672s  - ETA: 0s - loss: 0.0809 - acc: 0\n",
      "Epoch 10/10\n",
      "60000/60000 [==============================] - 32s 529us/step - loss: 0.0773 - acc: 0.9779\n"
     ]
    }
   ],
   "source": [
    "model = train_model(model, train_img, train_labels)"
   ]
  },
  {
   "cell_type": "code",
   "execution_count": 15,
   "metadata": {},
   "outputs": [
    {
     "data": {
      "text/plain": [
       "array([[4.4975788e-08, 6.0749805e-09, 1.2134295e-05, 2.4021348e-01,\n",
       "        3.9778372e-12, 7.5972700e-01, 6.6278616e-08, 3.9552774e-06,\n",
       "        4.1382955e-05, 1.9488666e-06]], dtype=float32)"
      ]
     },
     "execution_count": 15,
     "metadata": {},
     "output_type": "execute_result"
    }
   ],
   "source": [
    "model.predict(test_img[0:1])"
   ]
  },
  {
   "cell_type": "code",
   "execution_count": null,
   "metadata": {
    "collapsed": true
   },
   "outputs": [],
   "source": []
  }
 ],
 "metadata": {
  "kernelspec": {
   "display_name": "Python 2",
   "language": "python",
   "name": "python2"
  },
  "language_info": {
   "codemirror_mode": {
    "name": "ipython",
    "version": 2
   },
   "file_extension": ".py",
   "mimetype": "text/x-python",
   "name": "python",
   "nbconvert_exporter": "python",
   "pygments_lexer": "ipython2",
   "version": "2.7.13"
  }
 },
 "nbformat": 4,
 "nbformat_minor": 2
}
