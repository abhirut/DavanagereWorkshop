{
 "cells": [
  {
   "cell_type": "code",
   "execution_count": 1,
   "metadata": {},
   "outputs": [
    {
     "name": "stderr",
     "output_type": "stream",
     "text": [
      "/Users/saneem/anaconda/lib/python2.7/site-packages/h5py/__init__.py:34: FutureWarning: Conversion of the second argument of issubdtype from `float` to `np.floating` is deprecated. In future, it will be treated as `np.float64 == np.dtype(float).type`.\n",
      "  from ._conv import register_converters as _register_converters\n",
      "Using TensorFlow backend.\n"
     ]
    }
   ],
   "source": [
    "import numpy as np\n",
    "import matplotlib.pyplot as plt\n",
    "import gzip\n",
    "from __future__ import print_function\n",
    "\n",
    "# importing deep learning library\n",
    "import keras\n",
    "from keras.models import Sequential\n",
    "from keras.layers import Dense, Flatten\n",
    "from keras.layers import Conv2D\n",
    "from keras import backend as K"
   ]
  },
  {
   "cell_type": "code",
   "execution_count": 2,
   "metadata": {
    "collapsed": true
   },
   "outputs": [],
   "source": [
    "# Load MNIST data\n",
    "def load_images(filename):\n",
    "    f = gzip.open(filename,'r')\n",
    "    image_size = 28\n",
    "    \n",
    "    f.read(16)\n",
    "    buf = f.read()\n",
    "    data = np.frombuffer(buf, dtype=np.uint8).astype(np.float32)\n",
    "    num_images = len(data)/(image_size*image_size)\n",
    "    data = data.reshape(num_images, image_size, image_size, 1)\n",
    "    data = data/255.\n",
    "    return data\n",
    "\n",
    "def load_labels(filename):\n",
    "    f = gzip.open('train-labels-idx1-ubyte.gz','r')\n",
    "    f.read(8)\n",
    "    buf = f.read()\n",
    "    labels = np.frombuffer(buf, dtype=np.uint8).astype(np.int64)\n",
    "    return labels\n",
    "\n",
    "#------------------------------------------------------#\n",
    "\n",
    "# Plot images\n",
    "def plot_images(data_element):\n",
    "    image = np.asarray(data_element).squeeze()\n",
    "    plt.imshow(image, cmap='gray')\n",
    "    plt.show()\n",
    "\n",
    "#------------------------------------------------------#\n",
    "\n",
    "# Model creation\n",
    "def create_cnn_model():\n",
    "    # input image dimensions\n",
    "    img_rows, img_cols = 28, 28\n",
    "    num_classes = 10\n",
    "    input_shape = (img_rows, img_cols, 1)\n",
    "    \n",
    "    model = Sequential()\n",
    "    model.add(Conv2D(15, kernel_size=(3, 3), activation='relu', input_shape=input_shape))\n",
    "    model.add(Conv2D(10, kernel_size=(3, 3), activation='relu'))\n",
    "    model.add(Flatten())\n",
    "    model.add(Dense(num_classes, activation='softmax'))\n",
    "\n",
    "    model.compile(loss=keras.losses.categorical_crossentropy,\n",
    "                  optimizer=keras.optimizers.SGD(),\n",
    "                  metrics=['accuracy'])\n",
    "    model.summary()\n",
    "    return model\n",
    "\n",
    "#------------------------------------------------------#\n",
    "\n",
    "# Model training\n",
    "def train_model(model, x_train, y_train):\n",
    "    num_classes = len(np.unique(y_train))\n",
    "    print(num_classes)\n",
    "    y_train = keras.utils.to_categorical(y_train, num_classes)\n",
    "    epochs = 2\n",
    "    batch_size = 128\n",
    "    model.fit(x_train, y_train,\n",
    "          batch_size=batch_size,\n",
    "          epochs=epochs,\n",
    "          verbose=1)\n",
    "    return model"
   ]
  },
  {
   "cell_type": "code",
   "execution_count": null,
   "metadata": {
    "collapsed": true
   },
   "outputs": [],
   "source": []
  }
 ],
 "metadata": {
  "kernelspec": {
   "display_name": "Python 2",
   "language": "python",
   "name": "python2"
  },
  "language_info": {
   "codemirror_mode": {
    "name": "ipython",
    "version": 2
   },
   "file_extension": ".py",
   "mimetype": "text/x-python",
   "name": "python",
   "nbconvert_exporter": "python",
   "pygments_lexer": "ipython2",
   "version": "2.7.13"
  }
 },
 "nbformat": 4,
 "nbformat_minor": 2
}
